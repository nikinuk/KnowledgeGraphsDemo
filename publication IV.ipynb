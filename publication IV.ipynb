{
 "cells": [
  {
   "cell_type": "code",
   "execution_count": null,
   "metadata": {},
   "outputs": [],
   "source": [
    "# INSTALAÇÃO DOS PACOTES E LIVRARIAS NECESSÁRIAS\n",
    "%pip install langchain langchain_openai langchain_community neo4j"
   ]
  },
  {
   "cell_type": "code",
   "execution_count": 43,
   "metadata": {},
   "outputs": [],
   "source": [
    "import os\n",
    "import textwrap\n",
    "import warnings\n",
    "warnings.filterwarnings(\"ignore\")\n",
    "\n",
    "from langchain_community.graphs import Neo4jGraph\n",
    "from langchain_openai import ChatOpenAI\n",
    "from langchain.prompts.prompt import PromptTemplate\n",
    "from langchain_core.prompts import ChatPromptTemplate\n",
    "from langchain.chains import GraphCypherQAChain"
   ]
  },
  {
   "cell_type": "code",
   "execution_count": 4,
   "metadata": {},
   "outputs": [],
   "source": [
    "# Global constants\n",
    "\n",
    "NEO4J_URI = os.getenv('NEO4J_URI')\n",
    "NEO4J_USERNAME = os.getenv('NEO4J_USERNAME')\n",
    "NEO4J_PASSWORD = os.getenv('NEO4J_PASSWORD')\n",
    "NEO4J_DATABASE = os.getenv('NEO4J_DATABASE') or 'neo4j'\n",
    "OPENAI_API_KEY = os.getenv('OPENAI_API_KEY')\n"
   ]
  },
  {
   "cell_type": "code",
   "execution_count": 5,
   "metadata": {},
   "outputs": [],
   "source": [
    "#Conectar com uma base neo4j\n",
    "\n",
    "kg = Neo4jGraph(url=NEO4J_URI, username=NEO4J_USERNAME, password=NEO4J_PASSWORD, database=NEO4J_DATABASE)"
   ]
  },
  {
   "cell_type": "code",
   "execution_count": 28,
   "metadata": {},
   "outputs": [
    {
     "data": {
      "text/plain": [
       "[]"
      ]
     },
     "execution_count": 28,
     "metadata": {},
     "output_type": "execute_result"
    }
   ],
   "source": [
    "# Criar vector index todos os documentos\n",
    "cypher = \"CREATE VECTOR INDEX `job_description_idx` FOR (d:document) ON (d.textEmbedding) OPTIONS { indexConfig: {`vector.dimensions`: 1536, `vector.similarity_function`: 'cosine'}}\"\n",
    "kg.query(cypher)\n",
    "cypher = \"CREATE VECTOR INDEX `curiculum_idx` FOR (d:curiculum) ON (d.textEmbedding) OPTIONS { indexConfig: {`vector.dimensions`: 1536, `vector.similarity_function`: 'cosine'}}\"\n",
    "kg.query(cypher)"
   ]
  },
  {
   "cell_type": "code",
   "execution_count": 29,
   "metadata": {},
   "outputs": [
    {
     "data": {
      "text/plain": [
       "[]"
      ]
     },
     "execution_count": 29,
     "metadata": {},
     "output_type": "execute_result"
    }
   ],
   "source": [
    "cypher = 'MATCH (n:document) WHERE n.textEmbedding IS NULL WITH n, genai.vector.encode(n.text, \"OpenAI\", { token: $openAiApiKey}) AS vector CALL db.create.setNodeVectorProperty(n, \"textEmbedding\", vector)'\n",
    "kg.query(cypher, params={\"openAiApiKey\":OPENAI_API_KEY})\n",
    "cypher = 'MATCH (n:curiculum) WHERE n.textEmbedding IS NULL WITH n, genai.vector.encode(n.text, \"OpenAI\", { token: $openAiApiKey}) AS vector CALL db.create.setNodeVectorProperty(n, \"textEmbedding\", vector)'\n",
    "kg.query(cypher, params={\"openAiApiKey\":OPENAI_API_KEY})\n"
   ]
  },
  {
   "cell_type": "code",
   "execution_count": 58,
   "metadata": {},
   "outputs": [],
   "source": [
    "# Criar pipeline paa consulta\n",
    "def Q1(question):\n",
    "    RAG_text = kg.query(\"\"\"\n",
    "        WITH genai.vector.encode($question, \"OpenAI\", {token: $openAiApiKey}) AS question_embedding\n",
    "        CALL db.index.vector.queryNodes('job_description_idx', $top_k_jd, question_embedding) YIELD node as jd_node, score as jd_score\n",
    "        CALL db.index.vector.queryNodes('curiculum_idx', $top_k_cv, question_embedding) YIELD node as cv_node, score as cv_score\n",
    "        WITH jd_node, jd_score, cv_node, cv_score\n",
    "        RETURN jd_node.text, jd_score, cv_node.text, cv_score\n",
    "        ORDER BY jd_score DESC, cv_score DESC\n",
    "        \"\"\", \n",
    "        params={\"openAiApiKey\":OPENAI_API_KEY,\n",
    "                \"question\": question,\n",
    "                \"top_k_jd\": 1,\n",
    "                \"top_k_cv\": 6\n",
    "                })  \n",
    "\n",
    "    RAG_PROMPT = \"\"\"\n",
    "    Você é um assistente de recursos humanos que recebe informações sobre descrições de cargo e sobre currículos de candidatos e tenta \n",
    "    responder, usando apenas os fatos fornecidos, a pergunta que lhe é apresentada. Seja sucinto em sua resposta, mas procure\n",
    "    justificá-la da melhor maneira possível\n",
    "\n",
    "    Dados fornecidos:\n",
    "    {RAG_DATA}\n",
    "    \"\"\"\n",
    "\n",
    "    formatted_prompt = RAG_PROMPT.format(RAG_DATA=str(RAG_text), QUESTION=question)\n",
    "\n",
    "    llm = ChatOpenAI(model=\"gpt-3.5-turbo-0125\", temperature=0, api_key=OPENAI_API_KEY)\n",
    "    prompt = ChatPromptTemplate.from_messages([(\"system\",RAG_PROMPT),(\"human\", \"{QUESTION}\")])\n",
    "    chain = prompt | llm\n",
    "\n",
    "    response = chain.invoke({\"RAG_DATA\": RAG_text,\"QUESTION\": question})\n",
    "    return response.content"
   ]
  },
  {
   "cell_type": "code",
   "execution_count": 63,
   "metadata": {},
   "outputs": [
    {
     "name": "stdout",
     "output_type": "stream",
     "text": [
      "Com base nas informações fornecidas, o candidato mais apto para o cargo de Engenheiro de\n",
      "Qualidade é Nicholas Arand Graziano. Ele possui uma vasta experiência na gestão de\n",
      "qualidade em ambientes industriais complexos, liderando equipes e implementando melhorias\n",
      "contínuas. Além disso, sua formação em Engenharia Industrial e os resultados alcançados em\n",
      "cargos anteriores o destacam como um profissional qualificado e experiente para a posição\n",
      "em questão.\n"
     ]
    }
   ],
   "source": [
    "print(textwrap.fill(Q1(\"QUal candidato é o mais apto para o cargo de Engenheiro de Qualidade?\"),90))\n"
   ]
  },
  {
   "cell_type": "code",
   "execution_count": 64,
   "metadata": {},
   "outputs": [
    {
     "name": "stdout",
     "output_type": "stream",
     "text": [
      "Com base nas informações fornecidas, o candidato mais apto para o cargo de Engenheiro de\n",
      "Qualidade é Mariana Rudnick dos Santos. Ela possui experiência relevante na área de\n",
      "qualidade, com destaque para sua atuação como Gerente de Produção e Qualidade na Ambev,\n",
      "onde liderou equipes, implementou melhorias significativas e obteve resultados\n",
      "expressivos. Além disso, sua formação em Engenharia Química e Engenharia Industrial 4.0,\n",
      "juntamente com suas habilidades em gestão de equipes, qualidade e processos industriais, a\n",
      "tornam uma candidata qualificada e alinhada com os requisitos do cargo.\n"
     ]
    }
   ],
   "source": [
    "print(textwrap.fill(Q1(\"Qual candidato é o mais apto para o cargo de Engenheiro de Qualidade?\"),90))"
   ]
  },
  {
   "cell_type": "code",
   "execution_count": null,
   "metadata": {},
   "outputs": [],
   "source": [
    "# USANDO o KG"
   ]
  },
  {
   "cell_type": "code",
   "execution_count": 51,
   "metadata": {},
   "outputs": [
    {
     "data": {
      "text/plain": [
       "[{'Candidato': 'Elis Regina'},\n",
       " {'Candidato': 'Joao Silva'},\n",
       " {'Candidato': 'Maria Betania'},\n",
       " {'Candidato': 'Nicholas Arand'},\n",
       " {'Candidato': 'Antonio Fagundes'},\n",
       " {'Candidato': 'Raimundo Fagner'}]"
      ]
     },
     "execution_count": 51,
     "metadata": {},
     "output_type": "execute_result"
    }
   ],
   "source": [
    "# Quais candidatos temos em nossa base?\n",
    "kg.query(\"\"\"\n",
    "MATCH (c:person)\n",
    "RETURN c.name as Candidato\n",
    "\"\"\")"
   ]
  },
  {
   "cell_type": "code",
   "execution_count": 52,
   "metadata": {},
   "outputs": [
    {
     "data": {
      "text/plain": [
       "[{'Descrição_de_cargo': 'Process Engineer'},\n",
       " {'Descrição_de_cargo': 'Project Manager'},\n",
       " {'Descrição_de_cargo': 'Quality Engineer'}]"
      ]
     },
     "execution_count": 52,
     "metadata": {},
     "output_type": "execute_result"
    }
   ],
   "source": [
    "# Quais descrições de cargo temos em nossa base?\n",
    "kg.query(\"\"\"\n",
    "MATCH (jd:job_description)\n",
    "RETURN jd.name as Descrição_de_cargo\n",
    "\"\"\")"
   ]
  },
  {
   "cell_type": "code",
   "execution_count": 53,
   "metadata": {},
   "outputs": [
    {
     "data": {
      "text/plain": [
       "[]"
      ]
     },
     "execution_count": 53,
     "metadata": {},
     "output_type": "execute_result"
    }
   ],
   "source": [
    "# Criar indice para busca de\n",
    "kg.query(\"\"\"\n",
    "CREATE FULLTEXT INDEX fullTextGeneralNames\n",
    "  IF NOT EXISTS\n",
    "  FOR (p:person)\n",
    "  ON EACH [p.name]\n",
    "\"\"\")"
   ]
  },
  {
   "cell_type": "code",
   "execution_count": 54,
   "metadata": {},
   "outputs": [
    {
     "data": {
      "text/plain": [
       "[{'node.name': 'Elis Regina', 'score': 0.7002022862434387}]"
      ]
     },
     "execution_count": 54,
     "metadata": {},
     "output_type": "execute_result"
    }
   ],
   "source": [
    "#Temos algum candidato chamado Regina?\n",
    "kg.query(\"\"\"\n",
    "  CALL db.index.fulltext.queryNodes(\n",
    "         \"fullTextPersonNames\", \n",
    "         \"Regina\") YIELD node, score\n",
    "  RETURN node.name, score LIMIT 1\n",
    "\"\"\")"
   ]
  },
  {
   "cell_type": "code",
   "execution_count": 55,
   "metadata": {},
   "outputs": [
    {
     "data": {
      "text/plain": [
       "[{'prs.name': 'Elis Regina', 'lang.name': 'English'},\n",
       " {'prs.name': 'Elis Regina', 'lang.name': 'Portuguese'},\n",
       " {'prs.name': 'Elis Regina', 'lang.name': 'Italian'}]"
      ]
     },
     "execution_count": 55,
     "metadata": {},
     "output_type": "execute_result"
    }
   ],
   "source": [
    "# Encontrar idiomas da Elis \n",
    "\n",
    "kg.query(\"\"\"\n",
    "CALL db.index.fulltext.queryNodes(\n",
    "         \"fullTextPersonNames\", \n",
    "         \"Elis\"\n",
    "  ) YIELD node, score\n",
    "WITH node as prs LIMIT 1\n",
    "MATCH (prs:person)-[:has_skill]->(lang:language)\n",
    "RETURN prs.name, lang.name\n",
    "\"\"\")"
   ]
  },
  {
   "cell_type": "code",
   "execution_count": 56,
   "metadata": {},
   "outputs": [
    {
     "data": {
      "text/plain": [
       "[{'lang': 'English', 'numSpeakers': 6},\n",
       " {'lang': 'Portuguese', 'numSpeakers': 5},\n",
       " {'lang': 'French', 'numSpeakers': 3},\n",
       " {'lang': 'Spanish', 'numSpeakers': 2},\n",
       " {'lang': 'Italian', 'numSpeakers': 1}]"
      ]
     },
     "execution_count": 56,
     "metadata": {},
     "output_type": "execute_result"
    }
   ],
   "source": [
    "# Encpntrar idiomas mais falados\n",
    "\n",
    "kg.query(\"\"\"\n",
    "  MATCH p=(:person)-[:has_skill]->(lang:language)\n",
    "  RETURN lang.name as lang, count(lang.name) as numSpeakers\n",
    "    ORDER BY numSpeakers DESC\n",
    "    LIMIT 5\n",
    "\"\"\")"
   ]
  },
  {
   "cell_type": "code",
   "execution_count": 57,
   "metadata": {},
   "outputs": [
    {
     "data": {
      "text/plain": [
       "[{'lang.name': 'English', 'numRequiredLanguages': 3},\n",
       " {'lang.name': 'French', 'numRequiredLanguages': 2}]"
      ]
     },
     "execution_count": 57,
     "metadata": {},
     "output_type": "execute_result"
    }
   ],
   "source": [
    "# Encontrar idioma mais requisitado\n",
    "kg.query(\"\"\"\n",
    "  MATCH p=(:job_description)-[:requires]->()-[:matches]->(lang:language)\n",
    "  RETURN lang.name, count(lang.name) as numRequiredLanguages\n",
    "    ORDER BY numRequiredLanguages DESC\n",
    "\"\"\")"
   ]
  },
  {
   "cell_type": "code",
   "execution_count": 31,
   "metadata": {},
   "outputs": [
    {
     "data": {
      "text/plain": [
       "[{'MissingSkills': 'Good collaboration skills'},\n",
       " {'MissingSkills': 'Ability to analyze and solve technical issues'},\n",
       " {'MissingSkills': 'Ensure compliance with quality standards'},\n",
       " {'MissingSkills': 'Continuous learning'}]"
      ]
     },
     "execution_count": 31,
     "metadata": {},
     "output_type": "execute_result"
    }
   ],
   "source": [
    "# Quais treinamentos adicionais para candidato Nicholas se qualificarem para o cargo Quality Engineer?\n",
    "\n",
    "kg.query(\"\"\"\n",
    "MATCH (job:job_description {name: \"Quality Engineer\"})-[:requires]->(skill:required_skill)\n",
    "WHERE NOT EXISTS (\n",
    "         (:person {name: \"Nicholas Arand\"})-[]->()<-[:matches]-(skill)\n",
    "         )\n",
    "RETURN skill.name AS MissingSkills\n",
    "\n",
    "\"\"\")"
   ]
  },
  {
   "cell_type": "code",
   "execution_count": 32,
   "metadata": {},
   "outputs": [
    {
     "data": {
      "text/plain": [
       "[{'MissingSkills': 'Financial acumen'},\n",
       " {'MissingSkills': 'Understanding of project management principles'}]"
      ]
     },
     "execution_count": 32,
     "metadata": {},
     "output_type": "execute_result"
    }
   ],
   "source": [
    "# Existem habilidades que nenhum dos candidatos possui mas são necessárias para a vaga de Project manager?\n",
    "\n",
    "kg.query(\"\"\"\n",
    "MATCH (job:job_description {name: \"Project Manager\"})-[:requires]->(skill:required_skill)\n",
    "WHERE NOT EXISTS (\n",
    "         ()<-[:matches]-(skill)\n",
    "         )\n",
    "RETURN skill.name AS MissingSkills\n",
    "\"\"\")\n"
   ]
  },
  {
   "cell_type": "code",
   "execution_count": 33,
   "metadata": {},
   "outputs": [
    {
     "data": {
      "text/plain": [
       "[{'skill.name': 'Technical knowledge in process engineering principles and methodologies'},\n",
       " {'skill.name': 'Analytical skills'},\n",
       " {'skill.name': 'English'}]"
      ]
     },
     "execution_count": 33,
     "metadata": {},
     "output_type": "execute_result"
    }
   ],
   "source": [
    "# Quais cursos de treinamento seriam mais benéficos para os candidatos da vaga Process Engineer?\n",
    "\n",
    "kg.query(\"\"\"\n",
    "MATCH (job:job_description {name: \"Process Engineer\"})-[:requires]->(skill:required_skill)\n",
    "RETURN skill.name \n",
    "\"\"\")"
   ]
  },
  {
   "cell_type": "code",
   "execution_count": 34,
   "metadata": {},
   "outputs": [
    {
     "data": {
      "text/plain": [
       "[{'Skill_Name': 'English', 'number_of_Available_Skill': 6},\n",
       " {'Skill_Name': 'Portuguese', 'number_of_Available_Skill': 5},\n",
       " {'Skill_Name': 'French', 'number_of_Available_Skill': 3},\n",
       " {'Skill_Name': 'Agile', 'number_of_Available_Skill': 2},\n",
       " {'Skill_Name': 'AutoCad', 'number_of_Available_Skill': 2},\n",
       " {'Skill_Name': 'Microsoft Office Suite', 'number_of_Available_Skill': 2},\n",
       " {'Skill_Name': 'Power BI', 'number_of_Available_Skill': 2},\n",
       " {'Skill_Name': 'Spanish', 'number_of_Available_Skill': 2}]"
      ]
     },
     "execution_count": 34,
     "metadata": {},
     "output_type": "execute_result"
    }
   ],
   "source": [
    "# Quais são as habilidades mais comuns entre os candidatos que se aplicaram este ano?\n",
    "kg.query(\"\"\"\n",
    "MATCH (p:person)-[:has_skill]->(s)\n",
    "WITH s.name AS Skill_Name, COUNT(s) AS number_of_Available_Skill\n",
    "WHERE number_of_Available_Skill > 1\n",
    "RETURN Skill_Name, number_of_Available_Skill\n",
    "ORDER BY number_of_Available_Skill DESC\n",
    "\"\"\")"
   ]
  },
  {
   "cell_type": "code",
   "execution_count": 135,
   "metadata": {},
   "outputs": [],
   "source": [
    "CYPHER_GENERATION_TEMPLATE = \"\"\"Task:Generate Cypher statement to \n",
    "query a graph database.\n",
    "Instructions:\n",
    "Use only the provided relationship types and properties in the \n",
    "schema. Do not use any other relationship types or properties that \n",
    "are not provided.\n",
    "Schema:\n",
    "{schema}\n",
    "\n",
    "Note: Do not include any explanations or apologies in your responses.\n",
    "Do not respond to any questions that might ask anything else than \n",
    "for you to construct a Cypher statement.\n",
    "Do not include any text except the generated Cypher statement.\n",
    "\n",
    "Examples: Here are a few examples of generated Cypher \n",
    "statements for particular questions:\n",
    "\n",
    "# Quais candidatos temos em nossa base?\n",
    "MATCH (c:person)\n",
    "RETURN c.name as Candidato\n",
    "\n",
    "# Quais descrições de cargo temos em nossa base?\n",
    "MATCH (jd:job_description)\n",
    "RETURN jd.name as Descrição_de_cargo\n",
    "\n",
    "# Temos algum candidato chamado Regina?\n",
    "CALL db.index.fulltext.queryNodes(\"fullTextPersonNames\", \"Regina\") YIELD node, score\n",
    "RETURN node.name, score LIMIT 1\n",
    "\n",
    "# Que idiomas tem a Regina?\n",
    "CALL db.index.fulltext.queryNodes(\"fullTextPersonNames\", \"Regina\") YIELD node, score\n",
    "WITH node as prs LIMIT 1\n",
    "MATCH (prs:person)-[:has_skill]->(lang:language)\n",
    "RETURN prs.name, lang.name\n",
    "\n",
    "# Quais os idiomas mais falados entre os candidatos?\n",
    "MATCH p=(:person)-[:has_skill]->(lang:language)\n",
    "RETURN lang.name as lang, count(lang.name) as numSpeakers\n",
    "ORDER BY numSpeakers DESC\n",
    "LIMIT 5\n",
    "\n",
    "# Quais os idiomas mais requisistados nas descrições de cargo?\n",
    "MATCH p=(:job_description)-[:requires]->()-[:matches]->(lang:language)\n",
    "RETURN lang.name, count(lang) as numRequiredLanguages\n",
    "ORDER BY numRequiredLanguages DESC\n",
    "\n",
    "# Quais treinamentos adicionais poderíamos prever para o candidato Nicholas se qualificar melhor para o cargo Quality Engineer?\n",
    "MATCH (job:job_description {{name: \"Quality Engineer\"}})-[:requires]->(skill:required_skill)\n",
    "WHERE NOT EXISTS ((:person {{name: \"Nicholas Arand\"}})-[]->()<-[:matches]-(skill))\n",
    "RETURN skill.name AS Missing_Skills\n",
    "\n",
    "# Existem habilidades que nenhum dos candidatos possui mas são necessárias para a vaga de Project manager?\n",
    "MATCH (job:job_description {{name: \"Project Manager\"}})-[:requires]->(skill:required_skill)\n",
    "WHERE NOT EXISTS (()<-[:matches]-(skill))\n",
    "RETURN skill.name AS Missing_Skills\n",
    "\n",
    "# Quais cursos de treinamento seriam mais benéficos para os candidatos da vaga Process Engineer?\n",
    "MATCH (job:job_description {{name: \"Process Engineer\"}})-[:requires]->(skill:required_skill)\n",
    "RETURN skill.name \n",
    "\n",
    "# Quais são as habilidades mais comuns entre os candidatos que se aplicaram este ano?\n",
    "MATCH (p:person)-[:has_skill]->(s)\n",
    "WITH s.name AS Skill_Name, COUNT(s) AS number_of_Available_Skill\n",
    "WHERE number_of_Available_Skill > 1\n",
    "RETURN Skill_Name, number_of_Available_Skill\n",
    "ORDER BY number_of_Available_Skill DESC\n",
    "\n",
    "# Qual é o candidato que tem o maior numero de habilidade que coincidem com as habilidades requeridas nas descrições de cargo?\n",
    "MATCH (p:person)-[:has_skill]->(s)\n",
    "WHERE EXISTS ((:job_description)-[:requires]->()-[:matches]->(s))\n",
    "WITH p.name AS Candidate, COUNT(s) AS numSkills\n",
    "RETURN Candidate, numSkills\n",
    "ORDER BY numSkills DESC\n",
    "LIMIT 1\n",
    "\n",
    "# Quais são as habilidades da Maria Betania que são necessárias para a função de Engenheiro de Qualidade?\n",
    "MATCH (p:person {{name: \"Maria Betania\"}})-[]->(s)<-[:matches]-()<-[:requires]-(jd:job_description {{name: \"Quality Engineer\"}})\n",
    "RETURN p.name as candidate, s.name as skill, jd.name as required_by_job_description\n",
    "\n",
    "The question is:\n",
    "{question}\"\"\"\n",
    "\n",
    "CYPHER_GENERATION_PROMPT = PromptTemplate(\n",
    "    input_variables=[\"schema\", \"question\"], \n",
    "    template=CYPHER_GENERATION_TEMPLATE\n",
    ")\n",
    "\n",
    "cypherChain = GraphCypherQAChain.from_llm(\n",
    "    ChatOpenAI(temperature=0),\n",
    "    graph=kg,\n",
    "    verbose=True,\n",
    "    cypher_prompt=CYPHER_GENERATION_PROMPT,\n",
    ")\n",
    "\n",
    "def Q2(question: str) -> str:\n",
    "    response = cypherChain.run(question)\n",
    "    print(textwrap.fill(response, 60))"
   ]
  },
  {
   "cell_type": "code",
   "execution_count": 89,
   "metadata": {},
   "outputs": [
    {
     "name": "stdout",
     "output_type": "stream",
     "text": [
      "\n",
      "\n",
      "\u001b[1m> Entering new GraphCypherQAChain chain...\u001b[0m\n",
      "Generated Cypher:\n",
      "\u001b[32;1m\u001b[1;3mMATCH (p:person)-[:has_skill]->(s)\n",
      "WITH p.name AS Candidate, COUNT(s) AS numSkills\n",
      "RETURN Candidate, numSkills\n",
      "ORDER BY numSkills DESC\n",
      "LIMIT 1\u001b[0m\n",
      "Full Context:\n",
      "\u001b[32;1m\u001b[1;3m[{'Candidate': 'Maria Betania', 'numSkills': 12}]\u001b[0m\n",
      "\n",
      "\u001b[1m> Finished chain.\u001b[0m\n",
      "Maria Betania é o candidato com o maior número de\n",
      "habilidades, que são 12.\n"
     ]
    }
   ],
   "source": [
    "Q2(\"Qual é o candidato com o maior numero de habilidades?\")"
   ]
  },
  {
   "cell_type": "code",
   "execution_count": 90,
   "metadata": {},
   "outputs": [
    {
     "name": "stdout",
     "output_type": "stream",
     "text": [
      "\n",
      "\n",
      "\u001b[1m> Entering new GraphCypherQAChain chain...\u001b[0m\n",
      "Generated Cypher:\n",
      "\u001b[32;1m\u001b[1;3mMATCH (p:person)-[:has_skill]->(s)\n",
      "WHERE EXISTS ((:job_description)-[:requires]->()-[:matches]->(s))\n",
      "WITH p.name AS Candidate, COUNT(s) AS numSkills\n",
      "RETURN Candidate, numSkills\n",
      "ORDER BY numSkills DESC\u001b[0m\n",
      "Full Context:\n",
      "\u001b[32;1m\u001b[1;3m[{'Candidate': 'Maria Betania', 'numSkills': 2}, {'Candidate': 'Nicholas Arand', 'numSkills': 2}, {'Candidate': 'Antonio Fagundes', 'numSkills': 2}, {'Candidate': 'Elis Regina', 'numSkills': 1}, {'Candidate': 'Joao Silva', 'numSkills': 1}, {'Candidate': 'Raimundo Fagner', 'numSkills': 1}]\u001b[0m\n",
      "\n",
      "\u001b[1m> Finished chain.\u001b[0m\n",
      "Maria Betania, Nicholas Arand, and Antonio Fagundes are the\n",
      "candidates with the highest number of skills among those\n",
      "listed in the job descriptions.\n"
     ]
    }
   ],
   "source": [
    "Q2(\"Quais os candidatos que tem o maior numero de habilidade dentre as descritas nas descrições de cargo?\")"
   ]
  },
  {
   "cell_type": "code",
   "execution_count": 93,
   "metadata": {},
   "outputs": [
    {
     "name": "stdout",
     "output_type": "stream",
     "text": [
      "\n",
      "\n",
      "\u001b[1m> Entering new GraphCypherQAChain chain...\u001b[0m\n",
      "Generated Cypher:\n",
      "\u001b[32;1m\u001b[1;3mMATCH (jd:job_description {name: \"Quality Engineer\"})-[:requires]->(skill:required_skill)\n",
      "WITH COLLECT(skill.name) AS requiredSkills\n",
      "MATCH (p:person)-[:has_skill]->(s)\n",
      "WHERE s.name IN requiredSkills\n",
      "WITH p.name AS Candidate, COUNT(s) AS numMatchingSkills, SIZE(requiredSkills) AS totalRequiredSkills\n",
      "RETURN Candidate, numMatchingSkills, totalRequiredSkills, toFloat(numMatchingSkills) / toFloat(totalRequiredSkills) AS MatchingPercentage\n",
      "ORDER BY MatchingPercentage DESC\n",
      "LIMIT 1\u001b[0m\n",
      "Full Context:\n",
      "\u001b[32;1m\u001b[1;3m[{'Candidate': 'Maria Betania', 'numMatchingSkills': 2, 'totalRequiredSkills': 6, 'MatchingPercentage': 0.3333333333333333}]\u001b[0m\n",
      "\n",
      "\u001b[1m> Finished chain.\u001b[0m\n",
      "Maria Betania is the candidate most prepared for the Quality\n",
      "Engineer position.\n"
     ]
    }
   ],
   "source": [
    "Q2(\"Qual o candidato mais preparado para a função de Engenheiro de Qualidade?\")"
   ]
  },
  {
   "cell_type": "code",
   "execution_count": 136,
   "metadata": {},
   "outputs": [
    {
     "name": "stdout",
     "output_type": "stream",
     "text": [
      "\n",
      "\n",
      "\u001b[1m> Entering new GraphCypherQAChain chain...\u001b[0m\n",
      "Generated Cypher:\n",
      "\u001b[32;1m\u001b[1;3mMATCH (p:person {name: \"Maria Betania\"})-[]->(s)<-[:matches]-()<-[:requires]-(jd:job_description {name: \"Quality Engineer\"})\n",
      "RETURN p.name as candidate, s.name as skill, jd.name as required_by_job_description\u001b[0m\n",
      "Full Context:\n",
      "\u001b[32;1m\u001b[1;3m[{'candidate': 'Maria Betania', 'skill': 'English', 'required_by_job_description': 'Quality Engineer'}, {'candidate': 'Maria Betania', 'skill': 'French', 'required_by_job_description': 'Quality Engineer'}]\u001b[0m\n",
      "\n",
      "\u001b[1m> Finished chain.\u001b[0m\n",
      "Inglês, Francês.\n"
     ]
    }
   ],
   "source": [
    "Q2(\"Quais são as habilidades da Maria Betania que são necessárias para a função de Engenheiro de Qualidade?\")"
   ]
  },
  {
   "cell_type": "code",
   "execution_count": 102,
   "metadata": {},
   "outputs": [
    {
     "name": "stdout",
     "output_type": "stream",
     "text": [
      "\n",
      "\n",
      "\u001b[1m> Entering new GraphCypherQAChain chain...\u001b[0m\n",
      "Generated Cypher:\n",
      "\u001b[32;1m\u001b[1;3mMATCH (jd:job_description {name: \"Project Manager\"})-[:requires]->(rs:required_skill)\n",
      "WITH COLLECT(rs) AS requiredSkills\n",
      "MATCH (p:person)-[:has_skill]->(s:skill)\n",
      "WHERE s IN requiredSkills\n",
      "WITH p, COUNT(DISTINCT s) AS numMatchingSkills, COLLECT(DISTINCT s.name) AS matchingSkills\n",
      "RETURN p.name AS Candidato, numMatchingSkills, matchingSkills\n",
      "ORDER BY numMatchingSkills DESC\n",
      "LIMIT 1\u001b[0m\n",
      "Full Context:\n",
      "\u001b[32;1m\u001b[1;3m[]\u001b[0m\n",
      "\n",
      "\u001b[1m> Finished chain.\u001b[0m\n",
      "Desculpe, não sei a resposta.\n"
     ]
    }
   ],
   "source": [
    "Q2(\"Qual o candidato mais preparado para a função de Project Manager?\")"
   ]
  },
  {
   "cell_type": "code",
   "execution_count": 104,
   "metadata": {},
   "outputs": [
    {
     "name": "stdout",
     "output_type": "stream",
     "text": [
      "\n",
      "\n",
      "\u001b[1m> Entering new GraphCypherQAChain chain...\u001b[0m\n",
      "Generated Cypher:\n",
      "\u001b[32;1m\u001b[1;3mMATCH (jd:job_description)-[:requires]->(rs:required_skill)-[:matches]->(s:skill)\n",
      "RETURN s.name AS Habilidade, COUNT(s) AS Num_Procuradas\n",
      "ORDER BY Num_Procuradas DESC\u001b[0m\n",
      "Full Context:\n",
      "\u001b[32;1m\u001b[1;3m[{'Habilidade': 'Production Engineering', 'Num_Procuradas': 3}]\u001b[0m\n",
      "\n",
      "\u001b[1m> Finished chain.\u001b[0m\n",
      "Production Engineering is the most sought-after skill in\n",
      "candidates according to job descriptions.\n"
     ]
    }
   ],
   "source": [
    "Q2(\"Quais as habilidades mais procuradas em candidatos segundo as descrições de cargo?\")"
   ]
  },
  {
   "cell_type": "code",
   "execution_count": 105,
   "metadata": {},
   "outputs": [
    {
     "name": "stdout",
     "output_type": "stream",
     "text": [
      "\n",
      "\n",
      "\u001b[1m> Entering new GraphCypherQAChain chain...\u001b[0m\n",
      "Generated Cypher:\n",
      "\u001b[32;1m\u001b[1;3mMATCH (jd:job_description)-[:requires]->(education:education)\n",
      "RETURN education.name as Treinamento_recomendado\u001b[0m\n",
      "Full Context:\n",
      "\u001b[32;1m\u001b[1;3m[{'Treinamento_recomendado': 'A relevant degree (e.g., Bachelor’s or Master’s) in Engineering, Technical, Business, Manufacturing, Education, Project Management, Science, Management, MBA, or Industrial Engineering'}, {'Treinamento_recomendado': 'Degree in mechanical or industrial engineering'}]\u001b[0m\n",
      "\n",
      "\u001b[1m> Finished chain.\u001b[0m\n",
      "Um diploma relevante (por exemplo, Bacharelado ou Mestrado)\n",
      "em Engenharia, Técnica, Negócios, Manufatura, Educação,\n",
      "Gerenciamento de Projetos, Ciência, Administração, MBA ou\n",
      "Engenharia Industrial. Além disso, um diploma em engenharia\n",
      "mecânica ou industrial também é recomendado.\n"
     ]
    }
   ],
   "source": [
    "Q2(\"Que tipo de treinamento você recomenda para melhor preparar os candidatos aos cargos disponíveis?\")"
   ]
  },
  {
   "cell_type": "code",
   "execution_count": 108,
   "metadata": {},
   "outputs": [
    {
     "name": "stdout",
     "output_type": "stream",
     "text": [
      "\n",
      "\n",
      "\u001b[1m> Entering new GraphCypherQAChain chain...\u001b[0m\n",
      "Generated Cypher:\n",
      "\u001b[32;1m\u001b[1;3mMATCH (job:job_description {name: \"Quality Engineer\"})-[:requires]->(skill:required_skill)\n",
      "WHERE NOT EXISTS ((:person)-[:has_skill]->()<-[:matches]-(skill))\n",
      "RETURN skill.name AS Habilidades_Faltantes\u001b[0m\n",
      "Full Context:\n",
      "\u001b[32;1m\u001b[1;3m[{'Habilidades_Faltantes': 'Good collaboration skills'}, {'Habilidades_Faltantes': 'Ability to analyze and solve technical issues'}, {'Habilidades_Faltantes': 'Ensure compliance with quality standards'}, {'Habilidades_Faltantes': 'Continuous learning'}]\u001b[0m\n",
      "\n",
      "\u001b[1m> Finished chain.\u001b[0m\n",
      "Good collaboration skills, Ability to analyze and solve\n",
      "technical issues, Ensure compliance with quality standards,\n",
      "Continuous learning.\n"
     ]
    }
   ],
   "source": [
    "Q2(\"Quais habilidades faltam para os candidatos da vaga Quality Engineer?\")"
   ]
  }
 ],
 "metadata": {
  "kernelspec": {
   "display_name": ".venv",
   "language": "python",
   "name": "python3"
  },
  "language_info": {
   "codemirror_mode": {
    "name": "ipython",
    "version": 3
   },
   "file_extension": ".py",
   "mimetype": "text/x-python",
   "name": "python",
   "nbconvert_exporter": "python",
   "pygments_lexer": "ipython3",
   "version": "3.11.4"
  }
 },
 "nbformat": 4,
 "nbformat_minor": 2
}
